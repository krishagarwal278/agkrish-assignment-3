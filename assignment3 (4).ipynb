{
  "cells": [
    {
      "cell_type": "markdown",
      "id": "245217cc",
      "metadata": {
        "id": "245217cc"
      },
      "source": [
        "# Assignment: SVD Preprocessing on MNIST with Logistic Regression"
      ]
    },
    {
      "cell_type": "markdown",
      "id": "deffa444",
      "metadata": {
        "id": "deffa444"
      },
      "source": [
        "## Instructions:\n",
        "In this assignment, you will apply **Singular Value Decomposition (SVD)** as a preprocessing step to the **MNIST dataset** and train a **logistic regression classifier**. You will compare the model performance and training time when using different levels of SVD for dimensionality reduction.\n",
        "\n",
        "In this assignment, you will need to:\n",
        "1. Load the MNIST dataset and normalize it.\n",
        "2. Perform SVD and reduce the dimensions of the data.\n",
        "3. Train a logistic regression model on the original and SVD-reduced data.\n",
        "4. Measure and compare the training time and accuracy of the model with varying SVD components.\n",
        "5. Plot the results and analyze how SVD impacts the performance and efficiency of the model.\n",
        "\n",
        "***\n",
        "Your tasks include:\n",
        "1. Implement SVD algorithm. You are not allowed to directly use SVD implemented by other packages, but you may use functions in NumPy. (Part 2)\n",
        "2. Explore the accuracy and time performance from different numbers of SVD components. (Part 4)\n",
        "3. Visualize the accuracy, time performance and top 5 singular vectors in the dataset, analyze and explain which number of SVD component looks best to you? (Part 4,5&6) Hint: singular vectors should be reshaped to 28x28 images for visualization.\n",
        "***\n",
        "**Note that you may not import any other function or package.** Let's get started!\n"
      ]
    },
    {
      "cell_type": "markdown",
      "id": "b3e10cb3",
      "metadata": {
        "id": "b3e10cb3"
      },
      "source": [
        "## Part 1: Load the MNIST dataset and preprocess the data"
      ]
    },
    {
      "cell_type": "code",
      "execution_count": 20,
      "id": "79f2d907",
      "metadata": {
        "colab": {
          "base_uri": "https://localhost:8080/"
        },
        "id": "79f2d907",
        "outputId": "8ed69429-8274-4a86-cc4c-24802ff3edcb"
      },
      "outputs": [
        {
          "output_type": "stream",
          "name": "stdout",
          "text": [
            "Loading MNIST dataset...\n"
          ]
        }
      ],
      "source": [
        "import numpy as np\n",
        "import matplotlib.pyplot as plt\n",
        "import time\n",
        "from sklearn.linear_model import LogisticRegression\n",
        "from sklearn.model_selection import train_test_split\n",
        "from sklearn.datasets import fetch_openml\n",
        "from sklearn.metrics import accuracy_score, classification_report\n",
        "\n",
        "# Load MNIST dataset\n",
        "print(\"Loading MNIST dataset...\")\n",
        "mnist = fetch_openml('mnist_784', version=1)\n",
        "x = mnist.data\n",
        "y = mnist.target\n",
        "\n",
        "# Normalize the data\n",
        "x = x / 255.0\n",
        "\n",
        "\n",
        "# Split into training and test sets\n",
        "X_train, X_test, y_train, y_test = train_test_split(x, y, test_size=0.2, random_state=42)\n",
        "\n"
      ]
    },
    {
      "cell_type": "markdown",
      "id": "28b8572d",
      "metadata": {
        "id": "28b8572d"
      },
      "source": [
        "## Part 2: Implement SVD for Dimensionality Reduction"
      ]
    },
    {
      "cell_type": "code",
      "execution_count": 21,
      "id": "b3bd59f3",
      "metadata": {
        "id": "b3bd59f3"
      },
      "outputs": [],
      "source": [
        "def apply_svd_custom(X_train, X_test, n_components):\n",
        "    # Center the data\n",
        "    X_train_centered = X_train - np.mean(X_train, axis=0)\n",
        "    X_test_centered = X_test - np.mean(X_train, axis=0)  # Center test data using train mean\n",
        "\n",
        "    # Compute the covariance matrix\n",
        "    cov_matrix = np.cov(X_train_centered, rowvar=False)\n",
        "\n",
        "    # Perform eigen decomposition\n",
        "    eigenvalues, eigenvectors = np.linalg.eigh(cov_matrix)\n",
        "\n",
        "    # Sort eigenvalues and eigenvectors\n",
        "    sorted_indices = np.argsort(eigenvalues)[::-1]\n",
        "    eigenvalues = eigenvalues[sorted_indices]\n",
        "    eigenvectors = eigenvectors[:, sorted_indices]\n",
        "\n",
        "    # Select the top n_components\n",
        "    W = eigenvectors[:, :n_components]\n",
        "\n",
        "    # Project the data onto the new subspace\n",
        "    X_train_svd = np.dot(X_train_centered, W)\n",
        "    X_test_svd = np.dot(X_test_centered, W)\n",
        "\n",
        "    return X_train_svd, X_test_svd, W\n"
      ]
    },
    {
      "cell_type": "markdown",
      "id": "eb2a7a9d",
      "metadata": {
        "id": "eb2a7a9d"
      },
      "source": [
        "## Part 3: Train Logistic Regression and Measure Performance"
      ]
    },
    {
      "cell_type": "code",
      "execution_count": 22,
      "id": "dbfc0b10",
      "metadata": {
        "id": "dbfc0b10"
      },
      "outputs": [],
      "source": [
        "# Function to train logistic regression and track training time\n",
        "# Function to train logistic regression and track training time\n",
        "def train_logistic_regression(X_train, y_train, X_test, y_test):\n",
        "    model = LogisticRegression(max_iter=1000, solver='saga', random_state=42, multi_class='multinomial')\n",
        "\n",
        "    # Measure training time\n",
        "    start_time = time.time()\n",
        "    model.fit(X_train, y_train)\n",
        "    training_time = time.time() - start_time\n",
        "\n",
        "    y_predict = model.predict(X_test)\n",
        "    accuracy = accuracy_score(y_test, y_predict)\n",
        "\n",
        "    return accuracy, training_time\n"
      ]
    },
    {
      "cell_type": "markdown",
      "id": "2e557a05",
      "metadata": {
        "id": "2e557a05"
      },
      "source": [
        "## Part 4: Experiment with Different Levels of SVD\n",
        "\n",
        "Now, apply SVD with varying numbers of components and observe how the dimensionality reduction impacts the model's performance. Record both the accuracy and training time for each number of components.\n"
      ]
    },
    {
      "cell_type": "code",
      "source": [
        "results = []"
      ],
      "metadata": {
        "id": "0CMQ4rI4ia9C"
      },
      "id": "0CMQ4rI4ia9C",
      "execution_count": 23,
      "outputs": []
    },
    {
      "cell_type": "code",
      "execution_count": 24,
      "id": "3a460725",
      "metadata": {
        "colab": {
          "base_uri": "https://localhost:8080/"
        },
        "id": "3a460725",
        "outputId": "28ea82cb-bb48-4513-9ea1-50b687405597"
      },
      "outputs": [
        {
          "output_type": "stream",
          "name": "stdout",
          "text": [
            "Training models with different levels of SVD preprocessing...\n",
            "Applying custom SVD with 2 components...\n"
          ]
        },
        {
          "output_type": "stream",
          "name": "stderr",
          "text": [
            "/usr/local/lib/python3.10/dist-packages/sklearn/linear_model/_logistic.py:1247: FutureWarning: 'multi_class' was deprecated in version 1.5 and will be removed in 1.7. From then on, it will always use 'multinomial'. Leave it to its default value to avoid this warning.\n",
            "  warnings.warn(\n"
          ]
        },
        {
          "output_type": "stream",
          "name": "stdout",
          "text": [
            "SVD components: 2, Accuracy: 0.4484, Training time: 0.5875 seconds\n",
            "Applying custom SVD with 10 components...\n"
          ]
        },
        {
          "output_type": "stream",
          "name": "stderr",
          "text": [
            "/usr/local/lib/python3.10/dist-packages/sklearn/linear_model/_logistic.py:1247: FutureWarning: 'multi_class' was deprecated in version 1.5 and will be removed in 1.7. From then on, it will always use 'multinomial'. Leave it to its default value to avoid this warning.\n",
            "  warnings.warn(\n"
          ]
        },
        {
          "output_type": "stream",
          "name": "stdout",
          "text": [
            "SVD components: 10, Accuracy: 0.8035, Training time: 1.2011 seconds\n",
            "Applying custom SVD with 50 components...\n"
          ]
        },
        {
          "output_type": "stream",
          "name": "stderr",
          "text": [
            "/usr/local/lib/python3.10/dist-packages/sklearn/linear_model/_logistic.py:1247: FutureWarning: 'multi_class' was deprecated in version 1.5 and will be removed in 1.7. From then on, it will always use 'multinomial'. Leave it to its default value to avoid this warning.\n",
            "  warnings.warn(\n"
          ]
        },
        {
          "output_type": "stream",
          "name": "stdout",
          "text": [
            "SVD components: 50, Accuracy: 0.9080, Training time: 13.7112 seconds\n",
            "Applying custom SVD with 100 components...\n"
          ]
        },
        {
          "output_type": "stream",
          "name": "stderr",
          "text": [
            "/usr/local/lib/python3.10/dist-packages/sklearn/linear_model/_logistic.py:1247: FutureWarning: 'multi_class' was deprecated in version 1.5 and will be removed in 1.7. From then on, it will always use 'multinomial'. Leave it to its default value to avoid this warning.\n",
            "  warnings.warn(\n"
          ]
        },
        {
          "output_type": "stream",
          "name": "stdout",
          "text": [
            "SVD components: 100, Accuracy: 0.9181, Training time: 45.9826 seconds\n",
            "Applying custom SVD with 300 components...\n"
          ]
        },
        {
          "output_type": "stream",
          "name": "stderr",
          "text": [
            "/usr/local/lib/python3.10/dist-packages/sklearn/linear_model/_logistic.py:1247: FutureWarning: 'multi_class' was deprecated in version 1.5 and will be removed in 1.7. From then on, it will always use 'multinomial'. Leave it to its default value to avoid this warning.\n",
            "  warnings.warn(\n"
          ]
        },
        {
          "output_type": "stream",
          "name": "stdout",
          "text": [
            "SVD components: 300, Accuracy: 0.9206, Training time: 168.2374 seconds\n"
          ]
        }
      ],
      "source": [
        "# Define different numbers of components to test\n",
        "# Make sure the apply_svd_custom function is defined before calling it\n",
        "components = [2,10,50,100,300]  # You need to decide what number to search...\n",
        "\n",
        "# Store the results\n",
        "\n",
        "print(\"Training models with different levels of SVD preprocessing...\")\n",
        "for n_components in components:\n",
        "    print(f\"Applying custom SVD with {n_components} components...\")\n",
        "\n",
        "    # Apply SVD to the training and test sets\n",
        "    # Call apply_svd_custom() here...\n",
        "\n",
        "    X_train_svd, X_test_svd, W = apply_svd_custom(X_train, X_test, n_components)\n",
        "\n",
        "\n",
        "    # Train the logistic regression model and get accuracy and training time\n",
        "    accuracy, training_time = train_logistic_regression(X_train_svd, y_train, X_test_svd, y_test)\n",
        "\n",
        "    results.append((n_components, accuracy, training_time))\n",
        "\n",
        "    print(f\"SVD components: {n_components}, Accuracy: {accuracy:.4f}, Training time: {training_time:.4f} seconds\")\n",
        "\n"
      ]
    },
    {
      "cell_type": "markdown",
      "id": "ea7aca12",
      "metadata": {
        "id": "ea7aca12"
      },
      "source": [
        "## Part 5: Visualize and Analyze the Results\n",
        "\n",
        "Finally, plot the accuracy, training time as a function of the number of SVD components, and top 5 singular vectors. This will help you understand the trade-off between dimensionality reduction, accuracy, and model training time, and how SVD generally works. Hint: singular vectors should be reshaped to 28x28 images for visualization.\n"
      ]
    },
    {
      "cell_type": "code",
      "execution_count": 25,
      "id": "92ef0497",
      "metadata": {
        "colab": {
          "base_uri": "https://localhost:8080/",
          "height": 640
        },
        "id": "92ef0497",
        "outputId": "b5c7dee1-d8ff-44ea-d4d8-019563d7a342"
      },
      "outputs": [
        {
          "output_type": "display_data",
          "data": {
            "text/plain": [
              "<Figure size 1200x500 with 2 Axes>"
            ],
            "image/png": "[encoded data removed]"
          },
          "metadata": {}
        },
        {
          "output_type": "display_data",
          "data": {
            "text/plain": [
              "<Figure size 640x480 with 5 Axes>"
            ],
            "image/png": "[encoded data removed]"
          },
          "metadata": {}
        }
      ],
      "source": [
        "# Visualizing Accuracy and Training Time vs Number of SVD Components\n",
        "# Extract results for plotting\n",
        "# Part 5: Visualize and Analyze the Results\n",
        "import matplotlib.pyplot as plt\n",
        "\n",
        "# Extract results for plotting\n",
        "components, accuracies, training_times = zip(*results)\n",
        "\n",
        "# Plot accuracy vs. number of SVD components\n",
        "plt.figure(figsize=(12, 5))\n",
        "\n",
        "plt.subplot(1, 2, 1)\n",
        "plt.plot(components, accuracies, marker='o')\n",
        "plt.title('Accuracy vs. Number of SVD Components')\n",
        "plt.xlabel('Number of SVD Components')\n",
        "plt.ylabel('Accuracy')\n",
        "plt.xticks(components)\n",
        "\n",
        "# Plot training time vs. number of SVD components\n",
        "plt.subplot(1, 2, 2)\n",
        "plt.plot(components, training_times, marker='o', color='orange')\n",
        "plt.title('Training Time vs. Number of SVD Components')\n",
        "plt.xlabel('Number of SVD Components')\n",
        "plt.ylabel('Training Time (seconds)')\n",
        "plt.xticks(components)\n",
        "\n",
        "plt.tight_layout()\n",
        "plt.show()\n",
        "\n",
        "# Visualize top 5 singular vectors\n",
        "top_singular_vectors = W[:, :5]  # Get top 5 singular vectors\n",
        "for i in range(5):\n",
        "    plt.subplot(1, 5, i + 1)\n",
        "    plt.imshow(top_singular_vectors[:, i].reshape(28, 28), cmap='gray')\n",
        "    plt.title(f'{i + 1}', pad=10)\n",
        "    plt.axis('off')\n",
        "\n",
        "plt.show()"
      ]
    },
    {
      "cell_type": "markdown",
      "id": "4210569a",
      "metadata": {
        "id": "4210569a"
      },
      "source": [
        "## Part 6: Analyze / Conclusion\n",
        "\n",
        "YOUR ANSWER:"
      ]
    },
    {
      "cell_type": "markdown",
      "source": [
        "## Reducing dimensionality with SVD significantly improves training efficiency while maintaining reasonable accuracy. The optimal balance between accuracy and training time is achieved with around 100 SVD components. At this level, accuracy remains high, and training time is much lower compared to using the full 784 components. Reducing the number of components too much (e.g., below 50) starts to degrade accuracy as important features are lost.\n",
        "\n",
        "## This experiment demonstrates that SVD is a powerful preprocessing technique for speeding up model training while retaining performance if the number of components is chosen carefully."
      ],
      "metadata": {
        "id": "97Hnu7pvTCul"
      },
      "id": "97Hnu7pvTCul"
    }
  ],
  "metadata": {
    "kernelspec": {
      "display_name": "Python 3",
      "language": "python",
      "name": "python3"
    },
    "language_info": {
      "codemirror_mode": {
        "name": "ipython",
        "version": 3
      },
      "file_extension": ".py",
      "mimetype": "text/x-python",
      "name": "python",
      "nbconvert_exporter": "python",
      "pygments_lexer": "ipython3",
      "version": "3.8.10"
    },
    "colab": {
      "provenance": []
    }
  },
  "nbformat": 4,
  "nbformat_minor": 5
}